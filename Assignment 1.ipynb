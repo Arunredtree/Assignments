{
 "cells": [
  {
   "cell_type": "code",
   "execution_count": 1,
   "id": "f2ac7e5b",
   "metadata": {},
   "outputs": [
    {
     "name": "stdout",
     "output_type": "stream",
     "text": [
      "enter the word:Arun\n",
      "nurA\n"
     ]
    }
   ],
   "source": [
    "# Write a Python program that accepts a word from the user and reverse it.\n",
    "\n",
    "name = str(input(\"enter the word:\"))\n",
    "\n",
    "print(name[::-1])"
   ]
  },
  {
   "cell_type": "code",
   "execution_count": 4,
   "id": "c1ac5437",
   "metadata": {},
   "outputs": [
    {
     "name": "stdout",
     "output_type": "stream",
     "text": [
      "Number of even numbers : 4\n",
      "Number of odd numbers : 5\n"
     ]
    }
   ],
   "source": [
    "# Write a Python program to count the number of even and odd numbers from a series of numbers.\n",
    "\n",
    "numbers = (1, 2, 3, 4, 5, 6, 7, 8, 9)\n",
    "count_odd = 0\n",
    "count_even = 0\n",
    "for x in numbers:\n",
    "        if x % 2 == 0:\n",
    "    \t     count_even+=1\n",
    "        else:\n",
    "    \t     count_odd+=1\n",
    "print(\"Number of even numbers :\",count_even)\n",
    "print(\"Number of odd numbers :\",count_odd)"
   ]
  },
  {
   "cell_type": "code",
   "execution_count": 1,
   "id": "291d173f",
   "metadata": {},
   "outputs": [
    {
     "name": "stdout",
     "output_type": "stream",
     "text": [
      "enter the number: 50\n",
      "0 1 1 2 3 5 8 13 21 34 "
     ]
    }
   ],
   "source": [
    "# Write a Python program to get the Fibonacci series between 0 to 50.\n",
    "\n",
    "maximum_limit = int(input(\"enter the number: \"))\n",
    "a = 0\n",
    "b = 1\n",
    "if maximum_limit > 0:\n",
    "    if maximum_limit == 1:\n",
    "        print(a,end=\" \")  \n",
    "    else:\n",
    "        print(a,end=\" \")\n",
    "        print(b,end=\" \")\n",
    "        for i in range(1,maximum_limit):\n",
    "            temp = a + b\n",
    "            if temp < maximum_limit :\n",
    "                print(temp,end=\" \")\n",
    "                a = b\n",
    "                b = temp \n",
    "            else:\n",
    "                break\n",
    "else:\n",
    "    print(\"max limt cannot be less than 0\")\n",
    "    \n"
   ]
  },
  {
   "cell_type": "code",
   "execution_count": null,
   "id": "7778f96e",
   "metadata": {},
   "outputs": [],
   "source": []
  },
  {
   "cell_type": "code",
   "execution_count": null,
   "id": "bbc948fe",
   "metadata": {},
   "outputs": [],
   "source": []
  }
 ],
 "metadata": {
  "kernelspec": {
   "display_name": "Python 3 (ipykernel)",
   "language": "python",
   "name": "python3"
  },
  "language_info": {
   "codemirror_mode": {
    "name": "ipython",
    "version": 3
   },
   "file_extension": ".py",
   "mimetype": "text/x-python",
   "name": "python",
   "nbconvert_exporter": "python",
   "pygments_lexer": "ipython3",
   "version": "3.9.6"
  }
 },
 "nbformat": 4,
 "nbformat_minor": 5
}
