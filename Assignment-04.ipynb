{
 "cells": [
  {
   "cell_type": "markdown",
   "metadata": {},
   "source": [
    "# Write a Python program to create a lambda function that adds 25 to a given number passed in as an argument."
   ]
  },
  {
   "cell_type": "code",
   "execution_count": 7,
   "metadata": {},
   "outputs": [
    {
     "name": "stdout",
     "output_type": "stream",
     "text": [
      "Given Number: 10\n",
      "Output : 35\n"
     ]
    }
   ],
   "source": [
    "number = 10\n",
    "func = lambda x: x + 25\n",
    "res = func(number)\n",
    "print(f\"Given Number: {number}\")\n",
    "print(f\"Output : {res}\")"
   ]
  },
  {
   "cell_type": "markdown",
   "metadata": {},
   "source": [
    "# Write a Python program to triple all numbers of a given list of integers. Use Python map."
   ]
  },
  {
   "cell_type": "code",
   "execution_count": 2,
   "metadata": {},
   "outputs": [
    {
     "name": "stdout",
     "output_type": "stream",
     "text": [
      "the triplets is:  [3, 6, 9, 12, 15, 18, 21]\n"
     ]
    }
   ],
   "source": [
    "l_st = [1, 2, 3, 4, 5, 6, 7]\n",
    "threexmultiplier = lambda x : x * 3\n",
    "result= list(map(threexmultiplier,l_st))\n",
    "print(f\"the triplets is:  {result}\")"
   ]
  },
  {
   "cell_type": "markdown",
   "metadata": {},
   "source": [
    "# Write a Python program to square the elements of a list using map() function."
   ]
  },
  {
   "cell_type": "code",
   "execution_count": 3,
   "metadata": {},
   "outputs": [
    {
     "name": "stdout",
     "output_type": "stream",
     "text": [
      "square of the elements: [16, 25, 4, 81]\n"
     ]
    }
   ],
   "source": [
    "lst = [4, 5, 2, 9]\n",
    "sqr_function = lambda x : x**2\n",
    "sqr_res = list(map(sqr_function,lst))\n",
    "print(f\"square of the elements: {sqr_res}\")"
   ]
  }
 ],
 "metadata": {
  "kernelspec": {
   "display_name": "Python 3",
   "language": "python",
   "name": "python3"
  },
  "language_info": {
   "codemirror_mode": {
    "name": "ipython",
    "version": 3
   },
   "file_extension": ".py",
   "mimetype": "text/x-python",
   "name": "python",
   "nbconvert_exporter": "python",
   "pygments_lexer": "ipython3",
   "version": "3.8.10"
  }
 },
 "nbformat": 4,
 "nbformat_minor": 4
}
