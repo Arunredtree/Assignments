{
 "cells": [
  {
   "cell_type": "markdown",
   "metadata": {},
   "source": [
    "# Create You own built-in class method\n",
    "\n",
    "# Write a Python class to implement pow(x, n)"
   ]
  },
  {
   "cell_type": "code",
   "execution_count": 7,
   "metadata": {},
   "outputs": [
    {
     "name": "stdout",
     "output_type": "stream",
     "text": [
      "The Output is : 100\n"
     ]
    }
   ],
   "source": [
    "class Power:\n",
    "    def __init__(self,num,powr):\n",
    "        self.number = num\n",
    "        self.power = powr\n",
    "    def PowerFunc(self):\n",
    "        if self.power == 0:\n",
    "            print(\"The Output is 1\")\n",
    "        else:\n",
    "            answer = self.number ** self.power\n",
    "            print(f\"The Output is : {answer}\")\n",
    "my_num = Power(10,2)\n",
    "my_num.PowerFunc()"
   ]
  }
 ],
 "metadata": {
  "kernelspec": {
   "display_name": "Python 3",
   "language": "python",
   "name": "python3"
  },
  "language_info": {
   "codemirror_mode": {
    "name": "ipython",
    "version": 3
   },
   "file_extension": ".py",
   "mimetype": "text/x-python",
   "name": "python",
   "nbconvert_exporter": "python",
   "pygments_lexer": "ipython3",
   "version": "3.8.10"
  }
 },
 "nbformat": 4,
 "nbformat_minor": 4
}
