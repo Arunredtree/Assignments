{
 "cells": [
  {
   "cell_type": "markdown",
   "id": "131c0ac4",
   "metadata": {},
   "source": [
    "# Create a 3x3 matrix with values ranging from 0 to 8"
   ]
  },
  {
   "cell_type": "code",
   "execution_count": 2,
   "id": "cdf934e4",
   "metadata": {},
   "outputs": [],
   "source": [
    "import numpy as np\n",
    "matrix = np.arange(9).reshape(3,3)\n"
   ]
  },
  {
   "cell_type": "code",
   "execution_count": 52,
   "id": "27a97412",
   "metadata": {},
   "outputs": [
    {
     "name": "stdout",
     "output_type": "stream",
     "text": [
      "the matrix is \n",
      "[[0 1 2]\n",
      " [3 4 5]\n",
      " [6 7 8]]\n"
     ]
    }
   ],
   "source": [
    "print(f\"the matrix is \\n{matrix}\")"
   ]
  },
  {
   "cell_type": "markdown",
   "id": "a1f62eee",
   "metadata": {},
   "source": [
    "# Create a random vector of size 30 and find the mean value"
   ]
  },
  {
   "cell_type": "code",
   "execution_count": 15,
   "id": "a549fdbd",
   "metadata": {},
   "outputs": [],
   "source": [
    "import random\n",
    "np.random.seed(42)\n",
    "vector = np.random.randint(0,50,(3,10))"
   ]
  },
  {
   "cell_type": "code",
   "execution_count": 18,
   "id": "90313115",
   "metadata": {},
   "outputs": [
    {
     "data": {
      "text/plain": [
       "array([[38, 28, 14, 42,  7, 20, 38, 18, 22, 10],\n",
       "       [10, 23, 35, 39, 23,  2, 21,  1, 23, 43],\n",
       "       [29, 37,  1, 20, 32, 11, 21, 43, 24, 48]])"
      ]
     },
     "execution_count": 18,
     "metadata": {},
     "output_type": "execute_result"
    }
   ],
   "source": [
    "vector"
   ]
  },
  {
   "cell_type": "code",
   "execution_count": 19,
   "id": "d3fe7faf",
   "metadata": {},
   "outputs": [
    {
     "name": "stdout",
     "output_type": "stream",
     "text": [
      "the mean value for the vector is 24.1\n"
     ]
    }
   ],
   "source": [
    "c = np.mean(vector)\n",
    "print(\"the mean value for the vector is {}\".format(c))"
   ]
  },
  {
   "cell_type": "markdown",
   "id": "5ed4db3f",
   "metadata": {},
   "source": [
    "# Create a 10x10 array with random values and find the minimum and maximum values"
   ]
  },
  {
   "cell_type": "code",
   "execution_count": 20,
   "id": "b2caccf0",
   "metadata": {},
   "outputs": [],
   "source": [
    "np.random.seed(42)\n",
    "arr = np.random.randint(5,50,(10,10))"
   ]
  },
  {
   "cell_type": "code",
   "execution_count": 21,
   "id": "6ae1f1fa",
   "metadata": {},
   "outputs": [
    {
     "data": {
      "text/plain": [
       "array([[43, 33, 19, 47, 12, 25, 43, 23, 27, 15],\n",
       "       [15, 28, 40, 44, 28,  7, 26,  6, 28, 48],\n",
       "       [34, 42,  6, 25, 37, 16, 26, 48, 29, 31],\n",
       "       [46, 32, 20, 19, 48,  7, 41, 11, 25, 13],\n",
       "       [43, 22,  8, 29, 18, 13, 30,  6, 24, 32],\n",
       "       [11, 48, 12, 39, 18, 21, 40, 44,  8,  6],\n",
       "       [10, 46,  8, 33, 22, 30, 48, 38, 14, 40],\n",
       "       [18, 35, 19, 12, 18, 27, 44, 25, 20, 49],\n",
       "       [22, 28, 30, 29, 49, 45, 33, 19, 49,  5],\n",
       "       [29, 11, 13, 28,  5, 48, 12, 28, 15, 21]])"
      ]
     },
     "execution_count": 21,
     "metadata": {},
     "output_type": "execute_result"
    }
   ],
   "source": [
    "arr"
   ]
  },
  {
   "cell_type": "code",
   "execution_count": 22,
   "id": "165a9af9",
   "metadata": {},
   "outputs": [],
   "source": [
    "maxi = arr.max()"
   ]
  },
  {
   "cell_type": "code",
   "execution_count": 26,
   "id": "7ae4ce70",
   "metadata": {},
   "outputs": [
    {
     "name": "stdout",
     "output_type": "stream",
     "text": [
      "the maximum value is 49\n"
     ]
    }
   ],
   "source": [
    "print(\"the maximum value is {}\".format(maxi))"
   ]
  },
  {
   "cell_type": "code",
   "execution_count": 24,
   "id": "1544a8f1",
   "metadata": {},
   "outputs": [],
   "source": [
    "mini = arr.min()"
   ]
  },
  {
   "cell_type": "code",
   "execution_count": 27,
   "id": "723ec08c",
   "metadata": {},
   "outputs": [
    {
     "name": "stdout",
     "output_type": "stream",
     "text": [
      "the minimum value is 5\n"
     ]
    }
   ],
   "source": [
    "print(f\"the minimum value is {mini}\")"
   ]
  },
  {
   "cell_type": "markdown",
   "id": "d60ffd56",
   "metadata": {},
   "source": [
    "# Create a vector with values ranging from 10 to 49"
   ]
  },
  {
   "cell_type": "code",
   "execution_count": 28,
   "id": "3806271c",
   "metadata": {},
   "outputs": [],
   "source": [
    "vector = np.arange(10,50)"
   ]
  },
  {
   "cell_type": "code",
   "execution_count": 53,
   "id": "12cf47da",
   "metadata": {},
   "outputs": [
    {
     "name": "stdout",
     "output_type": "stream",
     "text": [
      "the vector is \n",
      "[10 11 12 13 14 15 16 17 18 19 20 21 22 23 24 25 26 27 28 29 30 31 32 33\n",
      " 34 35 36 37 38 39 40 41 42 43 44 45 46 47 48 49]\n"
     ]
    }
   ],
   "source": [
    "print(f\"the vector is \\n{vector}\")"
   ]
  },
  {
   "cell_type": "markdown",
   "id": "da6a1bac",
   "metadata": {},
   "source": [
    "# Create a null vector of size 10 but the fifth value which is 1"
   ]
  },
  {
   "cell_type": "code",
   "execution_count": 30,
   "id": "e83eb68b",
   "metadata": {},
   "outputs": [],
   "source": [
    "null_vector = np.zeros(10)"
   ]
  },
  {
   "cell_type": "code",
   "execution_count": 31,
   "id": "ec649e67",
   "metadata": {},
   "outputs": [],
   "source": [
    "null_vector[4] = 1"
   ]
  },
  {
   "cell_type": "code",
   "execution_count": 45,
   "id": "5845f5de",
   "metadata": {},
   "outputs": [
    {
     "name": "stdout",
     "output_type": "stream",
     "text": [
      "the null vector are [0. 0. 0. 0. 1. 0. 0. 0. 0. 0.]\n"
     ]
    }
   ],
   "source": [
    "print(f\"the null vector are {null_vector}\")\n"
   ]
  },
  {
   "cell_type": "markdown",
   "id": "4ac60b44",
   "metadata": {},
   "source": [
    "# Find indices of non-zero elements from [1,2,0,0,4,0]"
   ]
  },
  {
   "cell_type": "code",
   "execution_count": 41,
   "id": "b494b121",
   "metadata": {},
   "outputs": [],
   "source": [
    "ind = np.array([1,2,0,0,4,0])\n"
   ]
  },
  {
   "cell_type": "code",
   "execution_count": 42,
   "id": "f05955e8",
   "metadata": {},
   "outputs": [],
   "source": [
    "non_zeros = ind[ind>0]"
   ]
  },
  {
   "cell_type": "code",
   "execution_count": 44,
   "id": "08ba79d5",
   "metadata": {},
   "outputs": [
    {
     "name": "stdout",
     "output_type": "stream",
     "text": [
      "the non zeros are [1 2 4]\n"
     ]
    }
   ],
   "source": [
    "print(f\"the non zeros are {non_zeros}\")"
   ]
  }
 ],
 "metadata": {
  "kernelspec": {
   "display_name": "Python 3",
   "language": "python",
   "name": "python3"
  },
  "language_info": {
   "codemirror_mode": {
    "name": "ipython",
    "version": 3
   },
   "file_extension": ".py",
   "mimetype": "text/x-python",
   "name": "python",
   "nbconvert_exporter": "python",
   "pygments_lexer": "ipython3",
   "version": "3.8.8"
  }
 },
 "nbformat": 4,
 "nbformat_minor": 5
}
