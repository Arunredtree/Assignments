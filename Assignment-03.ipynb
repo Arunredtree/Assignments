{
 "cells": [
  {
   "cell_type": "markdown",
   "metadata": {},
   "source": [
    "# Game of \"Functions\""
   ]
  },
  {
   "cell_type": "code",
   "execution_count": 15,
   "metadata": {},
   "outputs": [
    {
     "name": "stdout",
     "output_type": "stream",
     "text": [
      "The sum of the list : 20\n"
     ]
    }
   ],
   "source": [
    "def Summing_function(List):\n",
    "    total = 0\n",
    "    for i in List:\n",
    "        total += i\n",
    "    return total\n",
    "list_of_numbers = [8, 2, 3, 0, 7]\n",
    "result = Summing_function(list_of_numbers)\n",
    "print(f\"The sum of the list : {result}\")"
   ]
  },
  {
   "cell_type": "markdown",
   "metadata": {},
   "source": [
    "# String inside the function"
   ]
  },
  {
   "cell_type": "code",
   "execution_count": 16,
   "metadata": {},
   "outputs": [
    {
     "name": "stdout",
     "output_type": "stream",
     "text": [
      "Original string : 1234abcd\n",
      "Reversed string: dcba4321\n"
     ]
    }
   ],
   "source": [
    "def reverse_my_string(string):\n",
    "    return string[::-1]\n",
    "provided_string = \"1234abcd\"\n",
    "reversed_string = reverse_my_string(provided_string)\n",
    "print(f\"Original string : {provided_string}\")\n",
    "print(f\"Reversed string: {reversed_string}\")"
   ]
  },
  {
   "cell_type": "markdown",
   "metadata": {},
   "source": [
    "# Calculate the Upper and The lower Case"
   ]
  },
  {
   "cell_type": "code",
   "execution_count": 17,
   "metadata": {},
   "outputs": [
    {
     "name": "stdout",
     "output_type": "stream",
     "text": [
      "No. of Upper case characters : 3\n",
      "No. of Lower case Characters : 12\n"
     ]
    }
   ],
   "source": [
    "def calculate_upper_and_lowercase(string):\n",
    "    no_of_upper = 0\n",
    "    no_of_lower = 0\n",
    "    for char in string:\n",
    "        if char.isalpha():\n",
    "            if char.isupper():\n",
    "                no_of_upper += 1\n",
    "            if char.islower():\n",
    "                no_of_lower += 1\n",
    "    return no_of_upper,no_of_lower\n",
    "given_string = \"The quick Brow Fox\"\n",
    "result = calculate_upper_and_lowercase(given_string)\n",
    "print(f\"No. of Upper case characters : {result[0]}\")\n",
    "print(f\"No. of Lower case Characters : {result[1]}\")"
   ]
  }
 ],
 "metadata": {
  "kernelspec": {
   "display_name": "Python 3",
   "language": "python",
   "name": "python3"
  },
  "language_info": {
   "codemirror_mode": {
    "name": "ipython",
    "version": 3
   },
   "file_extension": ".py",
   "mimetype": "text/x-python",
   "name": "python",
   "nbconvert_exporter": "python",
   "pygments_lexer": "ipython3",
   "version": "3.8.10"
  }
 },
 "nbformat": 4,
 "nbformat_minor": 4
}
